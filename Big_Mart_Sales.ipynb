{
  "nbformat": 4,
  "nbformat_minor": 0,
  "metadata": {
    "colab": {
      "name": "Big_Mart_Sales.ipynb",
      "provenance": [],
      "collapsed_sections": [],
      "mount_file_id": "1_nve02XxlWT2s6EyxZV4jsasKBM5niF7",
      "authorship_tag": "ABX9TyOh4Q57Qf14cAJlk98BlffT",
      "include_colab_link": true
    },
    "kernelspec": {
      "name": "python3",
      "display_name": "Python 3"
    }
  },
  "cells": [
    {
      "cell_type": "markdown",
      "metadata": {
        "id": "view-in-github",
        "colab_type": "text"
      },
      "source": [
        "<a href=\"https://colab.research.google.com/github/DSamson24/Big_Mart_Sales/blob/master/Big_Mart_Sales.ipynb\" target=\"_parent\"><img src=\"https://colab.research.google.com/assets/colab-badge.svg\" alt=\"Open In Colab\"/></a>"
      ]
    },
    {
      "cell_type": "markdown",
      "metadata": {
        "id": "7OaWwltZQopX",
        "colab_type": "text"
      },
      "source": [
        "**Import Necessary Libaries**"
      ]
    },
    {
      "cell_type": "code",
      "metadata": {
        "id": "6VFRycdeQviX",
        "colab_type": "code",
        "colab": {}
      },
      "source": [
        "import pandas as pd\n",
        "import numpy as np\n",
        "import seaborn as sns\n",
        "import matplotlib.pyplot as plt\n",
        "from sklearn.model_selection import train_test_split\n",
        "from sklearn.linear_model import LinearRegression\n",
        "from sklearn.metrics import mean_squared_error"
      ],
      "execution_count": 0,
      "outputs": []
    },
    {
      "cell_type": "code",
      "metadata": {
        "id": "z9g4Q3kZUvTx",
        "colab_type": "code",
        "colab": {}
      },
      "source": [
        "bigmart=pd.read_csv('/content/drive/My Drive/Colab Notebooks/Big_Mart/train.csv')\n",
        "bigmart=pd.read_csv('/content/drive/My Drive/Colab Notebooks/Big_Mart/test.csv')\n"
      ],
      "execution_count": 0,
      "outputs": []
    }
  ]
}